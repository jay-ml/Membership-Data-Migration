{
 "cells": [
  {
   "cell_type": "code",
   "execution_count": null,
   "id": "3e67fbf7-c18f-47c9-940f-37be21c04ea4",
   "metadata": {},
   "outputs": [],
   "source": [
    "import numpy as np\n",
    "import pandas as pd\n",
    "\n",
    "df = pd.read_csv('memberships_fy25_2.csv', header=[0], keep_default_na=False)"
   ]
  },
  {
   "cell_type": "code",
   "execution_count": null,
   "id": "5a49cf2f-f558-4368-a019-cdba5f9f980b",
   "metadata": {},
   "outputs": [],
   "source": [
    "members = pd.read_csv('MIAAMemberships_headers.csv', header=[0], keep_default_na=False)"
   ]
  },
  {
   "cell_type": "code",
   "execution_count": null,
   "id": "61016a4d-ae1b-4b45-af39-da9196356103",
   "metadata": {},
   "outputs": [],
   "source": [
    "print(members.columns.tolist())\n",
    "mem_cols = members.columns.tolist()"
   ]
  },
  {
   "cell_type": "code",
   "execution_count": null,
   "id": "57f1bc52-3a12-45a1-8775-4644120c2625",
   "metadata": {},
   "outputs": [],
   "source": [
    "print(df.columns.tolist())"
   ]
  },
  {
   "cell_type": "code",
   "execution_count": null,
   "id": "41a33adb-973c-420d-84aa-9af64bff3f7c",
   "metadata": {},
   "outputs": [],
   "source": [
    "ndf = members\n",
    "for school in df['SchID'].unique():\n",
    "    cur = df[df['SchID'] == school]\n",
    "    if cur.shape[0] != 1:\n",
    "        print(\"Duplicate Found\")\n",
    "        cur = cur[0,:]\n",
    "    l = []\n",
    "    l.append(school)\n",
    "    l.append(cur['ExpDate'].unique()[0])\n",
    "    l.append(cur['PONumber'].unique()[0])\n",
    "    l.append(cur['NbrSports'].unique()[0])\n",
    "    l.append('') #FeePerSport\n",
    "    l.append(cur['VarFee'].unique()[0])\n",
    "    l.append(cur['BaseFee'].unique()[0])\n",
    "    l.append('') #ScoresheetFee\n",
    "    l.append(cur['OtherAssnDues'].unique()[0])\n",
    "    l.append(cur['MSAA Fees'].unique()[0])\n",
    "    l.append(cur['TotDue'].unique()[0])\n",
    "    l.append('') #DateBilled\n",
    "    l.append('') #Comments\n",
    "    l.append(cur['HomeSchoolParticipation'].unique()[0])\n",
    "    l.append(cur['CoachesCompliance'].unique()[0])\n",
    "    l.append(cur['GraduationDate'].unique()[0])\n",
    "    l.append('') #.ofAmbassadors\n",
    "    l.append('') #ADDuesDateSent\n",
    "    l.append('') #ADDuesPaidDate\n",
    "    ldf = pd.DataFrame([l], columns=mem_cols)\n",
    "    ndf = pd.concat([ndf, ldf], ignore_index=True)\n",
    "ndf = ndf[ndf['ExpDate'] == 2025]\n",
    "print(ndf.head(25))"
   ]
  },
  {
   "cell_type": "code",
   "execution_count": null,
   "id": "af943ce0-d048-4d5f-bb06-df4219945764",
   "metadata": {},
   "outputs": [],
   "source": [
    "ndf['HomeSchoolParticipation'] = ndf['HomeSchoolParticipation'].replace('Not applicable', 'NA')\n",
    "print(ndf.head(20))"
   ]
  },
  {
   "cell_type": "code",
   "execution_count": null,
   "id": "bf8d3691-2436-4d90-be24-77b7aaffefc2",
   "metadata": {},
   "outputs": [],
   "source": [
    "ndf['HomeSchoolParticipation'] = ndf['HomeSchoolParticipation'].replace('Yes', 'YES')\n",
    "print(ndf.head())"
   ]
  },
  {
   "cell_type": "code",
   "execution_count": null,
   "id": "946d5733-6147-4ae3-95ca-a3982b993288",
   "metadata": {},
   "outputs": [],
   "source": [
    "ndf['HomeSchoolParticipation'] = ndf['HomeSchoolParticipation'].replace('No', 'NO')"
   ]
  },
  {
   "cell_type": "code",
   "execution_count": null,
   "id": "864830c4-84d8-4c21-9894-e962564d5d75",
   "metadata": {},
   "outputs": [],
   "source": [
    "ndf['CoachesCompliance'] = ndf['CoachesCompliance'].replace('Yes','YES')"
   ]
  },
  {
   "cell_type": "code",
   "execution_count": null,
   "id": "7a16d29d-5a8f-4712-abd3-33ebf2e69b5f",
   "metadata": {},
   "outputs": [],
   "source": [
    "ndf['CoachesCompliance'] = ndf['CoachesCompliance'].replace('No','NO')"
   ]
  },
  {
   "cell_type": "code",
   "execution_count": null,
   "id": "96261c71-59d6-4779-9814-828140739be4",
   "metadata": {},
   "outputs": [],
   "source": [
    "print(ndf.head(25))"
   ]
  },
  {
   "cell_type": "code",
   "execution_count": null,
   "id": "504cf9d6-9868-4cb7-9ccb-735ac6553e61",
   "metadata": {},
   "outputs": [],
   "source": [
    "ndf.to_csv('fy25_memberships_toAccess_2_all.csv')"
   ]
  }
 ],
 "metadata": {
  "kernelspec": {
   "display_name": "Python 3 (ipykernel)",
   "language": "python",
   "name": "python3"
  },
  "language_info": {
   "codemirror_mode": {
    "name": "ipython",
    "version": 3
   },
   "file_extension": ".py",
   "mimetype": "text/x-python",
   "name": "python",
   "nbconvert_exporter": "python",
   "pygments_lexer": "ipython3",
   "version": "3.12.2"
  }
 },
 "nbformat": 4,
 "nbformat_minor": 5
}
